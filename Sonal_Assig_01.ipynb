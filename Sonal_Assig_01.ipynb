{
  "nbformat": 4,
  "nbformat_minor": 0,
  "metadata": {
    "colab": {
      "provenance": [],
      "authorship_tag": "ABX9TyOi5K4E/FgAqXY3iFvtPF4J",
      "include_colab_link": true
    },
    "kernelspec": {
      "name": "python3",
      "display_name": "Python 3"
    },
    "language_info": {
      "name": "python"
    }
  },
  "cells": [
    {
      "cell_type": "markdown",
      "metadata": {
        "id": "view-in-github",
        "colab_type": "text"
      },
      "source": [
        "<a href=\"https://colab.research.google.com/github/Sonal-Jais/Assignments/blob/main/Sonal_Assig_01.ipynb\" target=\"_parent\"><img src=\"https://colab.research.google.com/assets/colab-badge.svg\" alt=\"Open In Colab\"/></a>"
      ]
    },
    {
      "cell_type": "markdown",
      "source": [
        "# Assignment 1"
      ],
      "metadata": {
        "id": "xH0fwoFc1S-6"
      }
    },
    {
      "cell_type": "code",
      "source": [
        "# Take input A and B and print their sum, mul, div, square of the nos.\n",
        "\n",
        "A = int(input(\"enter the number A \"))\n",
        "B = int(input(\"enter the number B \"))\n",
        "print(f\"The sum of the two nummbers {A} and {B} is : {A+B}\")\n",
        "print(f\"The difference of the two nummbers {A} and {B} is : {A-B}\")\n",
        "print(f\"The multiplication of the two nummbers {A} * {B} is : {A*B}\")\n",
        "print(f\"The divison of the two nummbers {A} and {B} is : {A/B}\")"
      ],
      "metadata": {
        "colab": {
          "base_uri": "https://localhost:8080/"
        },
        "id": "36X0oNZa1WyN",
        "outputId": "280fd288-16ce-4964-a202-49c10961d742"
      },
      "execution_count": null,
      "outputs": [
        {
          "output_type": "stream",
          "name": "stdout",
          "text": [
            "enter the number A 20\n",
            "enter the number B 10\n",
            "The sum of the two nummbers 20 and 10 is : 30\n",
            "The difference of the two nummbers 20 and 10 is : 10\n",
            "The multiplication of the two nummbers 20 * 10 is : 200\n",
            "The divison of the two nummbers 20 and 10 is : 2.0\n"
          ]
        }
      ]
    },
    {
      "cell_type": "code",
      "source": [
        "#How many reserve keywords are there in python and why we should not use them as a variable name.\n",
        "\n",
        "\"\"\"and       del       from      not       while    \n",
        "as        elif      global    or        with     \n",
        "assert    else      if        pass      yield    \n",
        "break     except    import    print              \n",
        "class     exec      in        raise              \n",
        "continue  finally   is        return             \n",
        "def       for       lambda    try\"\"\"\n",
        "\n",
        "\"\"\" In any programming language keywords or reserved words are predefined,\n",
        " i.e these keywords are assigned to perform specific functions.\n",
        " Python allows users to assign values to these reserved words but then they loose there pre existing functionality\n",
        "hence we  should not use them as variable names.\n",
        "\n",
        "example\"\"\"\n",
        "print (\"Hello World\") # print is a keyword.\n",
        "\"\"\"print = 10 # here we assigned a value to this keyword \n",
        "print  here we get the value we assigned to the keyword\n",
        "print(\"Hello world\") # in this line print looses its functionality\n",
        "\"\"\"\n",
        "\n"
      ],
      "metadata": {
        "colab": {
          "base_uri": "https://localhost:8080/"
        },
        "id": "PU77E-im3doN",
        "outputId": "d4c1426f-478c-4a3f-bb9f-c12152bfe049"
      },
      "execution_count": null,
      "outputs": [
        {
          "output_type": "stream",
          "name": "stdout",
          "text": [
            "Hello World\n"
          ]
        },
        {
          "output_type": "execute_result",
          "data": {
            "text/plain": [
              "10"
            ]
          },
          "metadata": {},
          "execution_count": 2
        }
      ]
    },
    {
      "cell_type": "code",
      "source": [
        "#Create email ids with the user inputs. in the following format - lastname.firstname@gmail.com\n",
        "\n",
        "fname = input(\"enter the first name : \")\n",
        "lname = input(\"enter the last name : \")\n",
        "print (f\" Creation of email_id using the input values : {lname}.{fname}@gmail.com\")"
      ],
      "metadata": {
        "colab": {
          "base_uri": "https://localhost:8080/"
        },
        "id": "SlFlUQYdPR6y",
        "outputId": "9a2195b7-e178-43ad-afc2-1bedcf3777d0"
      },
      "execution_count": null,
      "outputs": [
        {
          "output_type": "stream",
          "name": "stdout",
          "text": [
            "enter the first name : Sonal\n",
            "enter the last name : jaiswal\n",
            " Creation of email_id using the input values jaiswal.Sonal@gmail.com\n"
          ]
        }
      ]
    },
    {
      "cell_type": "code",
      "source": [
        "\"\"\"Try to print the following lines -\n",
        "Hi I'm Sunny\n",
        "My address is 22/3\n",
        "I earn 20$ daily.\"\"\"\n",
        "\n",
        "print(\"\"\"Hi I'm Sonal\n",
        "My Address is 22/3\n",
        "I earn $20 daily\"\"\")"
      ],
      "metadata": {
        "colab": {
          "base_uri": "https://localhost:8080/"
        },
        "id": "b3KsguPxQjwp",
        "outputId": "a0054090-1a97-496e-d0b5-f45c862688d5"
      },
      "execution_count": null,
      "outputs": [
        {
          "output_type": "stream",
          "name": "stdout",
          "text": [
            "Hi I'm Sonal\n",
            "My Address is 22/3\n",
            "I earn $20 daily\n"
          ]
        }
      ]
    },
    {
      "cell_type": "code",
      "source": [
        "# Take user input (name, address, date of birth etc) to fill a form for your college and print their email IDs\n",
        "\n",
        "name = input(\"enter your name : \")\n",
        "address = input(\"enter your address : \")\n",
        "d_o_b = int(input(\"enter your birth year : \"))\n",
        "age = 2022 - d_o_b\n",
        "\n",
        "\n",
        "print(f\"\"\"   COLLEGE FORM    \n",
        "Student name : {name}\n",
        "Address : {address}\n",
        "Student's age : {age}\n",
        "Email Id : {name}{age}@gmail.com\"\"\")"
      ],
      "metadata": {
        "colab": {
          "base_uri": "https://localhost:8080/"
        },
        "id": "Bx9Ms-c-S6p8",
        "outputId": "96e18ca2-812c-486f-91f8-1bb12752d433"
      },
      "execution_count": null,
      "outputs": [
        {
          "output_type": "stream",
          "name": "stdout",
          "text": [
            "enter your name : sonal\n",
            "enter your address : 22/3\n",
            "enter your birth year : 2000\n",
            "   COLLEGE FORM    \n",
            "Student name : sonal\n",
            "Address : 22/3\n",
            "Student's age : 22\n",
            "Email Id : sonal22@gmail.com\n"
          ]
        }
      ]
    },
    {
      "cell_type": "code",
      "source": [
        "\"\"\"Convert the following -\n",
        "\"22.4\" into integer\n",
        "\"22\" into complex no.\"\"\"\n",
        "\n",
        "A = 22.4\n",
        "print(f\" Before conversion data type is {type(A)},value : {A}\")\n",
        "A = int(A)\n",
        "print(f\" After conversion data type is {type(A)},value : {A}\")\n",
        "B = \"22\"\n",
        "print(f\" Before conversion data type is {type(B)},value : {B}\")\n",
        "B = complex(B)\n",
        "print(f\" After conversion data type is {type(B)},value : {B}\")"
      ],
      "metadata": {
        "colab": {
          "base_uri": "https://localhost:8080/"
        },
        "id": "DUEgpygBTaMR",
        "outputId": "cc0e9b8a-5af4-4b75-e062-45e4f48e6719"
      },
      "execution_count": null,
      "outputs": [
        {
          "output_type": "stream",
          "name": "stdout",
          "text": [
            " Before conversion data type is <class 'float'>,value : 22.4\n",
            " After conversion data type is <class 'int'>,value : 22\n",
            " Before conversion data type is <class 'str'>,value : 22\n",
            " After conversion data type is <class 'complex'>,value : (22+0j)\n"
          ]
        }
      ]
    },
    {
      "cell_type": "markdown",
      "source": [
        "# Errors that can be encountered "
      ],
      "metadata": {
        "id": "VZ-RTWbMXIIY"
      }
    },
    {
      "cell_type": "code",
      "source": [
        "Print(\"Good Evening\")\n",
        "\n",
        "# As Python is a case sensitive language, print is a keyword not Print thus resulting in an name error "
      ],
      "metadata": {
        "colab": {
          "base_uri": "https://localhost:8080/",
          "height": 165
        },
        "id": "vMp9b71MXSNc",
        "outputId": "29db6985-3c18-4c5b-86b4-770fd3e9140b"
      },
      "execution_count": null,
      "outputs": [
        {
          "output_type": "error",
          "ename": "NameError",
          "evalue": "ignored",
          "traceback": [
            "\u001b[0;31m---------------------------------------------------------------------------\u001b[0m",
            "\u001b[0;31mNameError\u001b[0m                                 Traceback (most recent call last)",
            "\u001b[0;32m<ipython-input-1-35ceb22ef007>\u001b[0m in \u001b[0;36m<module>\u001b[0;34m\u001b[0m\n\u001b[0;32m----> 1\u001b[0;31m \u001b[0mPrint\u001b[0m\u001b[0;34m(\u001b[0m\u001b[0;34m\"Good Evening\"\u001b[0m\u001b[0;34m)\u001b[0m\u001b[0;34m\u001b[0m\u001b[0;34m\u001b[0m\u001b[0m\n\u001b[0m",
            "\u001b[0;31mNameError\u001b[0m: name 'Print' is not defined"
          ]
        }
      ]
    },
    {
      "cell_type": "code",
      "source": [
        "print \"Good Evening\"\n",
        "\n",
        "# As any other language which has grammer, programming languages also have syntax which if violated results in error (more preciously syntax error) "
      ],
      "metadata": {
        "colab": {
          "base_uri": "https://localhost:8080/",
          "height": 130
        },
        "id": "HxEkyaQ3XcGD",
        "outputId": "e2e03d7b-c0ac-4b4d-a535-7cad782f2256"
      },
      "execution_count": null,
      "outputs": [
        {
          "output_type": "error",
          "ename": "SyntaxError",
          "evalue": "ignored",
          "traceback": [
            "\u001b[0;36m  File \u001b[0;32m\"<ipython-input-2-19a5de821704>\"\u001b[0;36m, line \u001b[0;32m1\u001b[0m\n\u001b[0;31m    print \"Good Evening\"\u001b[0m\n\u001b[0m                       ^\u001b[0m\n\u001b[0;31mSyntaxError\u001b[0m\u001b[0;31m:\u001b[0m Missing parentheses in call to 'print'. Did you mean print(\"Good Evening\")?\n"
          ]
        }
      ]
    },
    {
      "cell_type": "code",
      "source": [
        "print(\"Good \n",
        "Evening\")\n",
        "\n",
        "'''double qoutes used in python works for a single line statement,\n",
        "   if the user wishes to use multiple line then thriple quotes are used either \"\"\"\" or '''"
      ],
      "metadata": {
        "colab": {
          "base_uri": "https://localhost:8080/",
          "height": 130
        },
        "id": "u1WfOCLwYLI8",
        "outputId": "2ab62bc9-7d99-46f2-9af0-3379a5ef4f6e"
      },
      "execution_count": null,
      "outputs": [
        {
          "output_type": "error",
          "ename": "SyntaxError",
          "evalue": "ignored",
          "traceback": [
            "\u001b[0;36m  File \u001b[0;32m\"<ipython-input-3-f065c2c370f4>\"\u001b[0;36m, line \u001b[0;32m1\u001b[0m\n\u001b[0;31m    print(\"Good\u001b[0m\n\u001b[0m                ^\u001b[0m\n\u001b[0;31mSyntaxError\u001b[0m\u001b[0;31m:\u001b[0m EOL while scanning string literal\n"
          ]
        }
      ]
    },
    {
      "cell_type": "markdown",
      "source": [
        "Variable naming convention in python\n",
        "\n",
        "Variable names should not contain any special characters like ^ % $ ! @ # ^ & * ()\n",
        "\n",
        "Variable names can contain numbers but can not start with numbers\n"
      ],
      "metadata": {
        "id": "SZtDCEosaNCQ"
      }
    },
    {
      "cell_type": "code",
      "source": [
        "ten%number = 10\n",
        "\n",
        "10ten = 10\n",
        "\n",
        "# Violation of the naming conventions leads to Syntax error."
      ],
      "metadata": {
        "colab": {
          "base_uri": "https://localhost:8080/",
          "height": 130
        },
        "id": "E3AzcN3cZHFN",
        "outputId": "cd19baad-7462-4c3a-ce1d-36391da05b6c"
      },
      "execution_count": null,
      "outputs": [
        {
          "output_type": "error",
          "ename": "SyntaxError",
          "evalue": "ignored",
          "traceback": [
            "\u001b[0;36m  File \u001b[0;32m\"<ipython-input-5-01af8194aecf>\"\u001b[0;36m, line \u001b[0;32m3\u001b[0m\n\u001b[0;31m    10ten = 10\u001b[0m\n\u001b[0m        ^\u001b[0m\n\u001b[0;31mSyntaxError\u001b[0m\u001b[0;31m:\u001b[0m invalid syntax\n"
          ]
        }
      ]
    },
    {
      "cell_type": "code",
      "source": [],
      "metadata": {
        "id": "RaNmp4YnasNf"
      },
      "execution_count": null,
      "outputs": []
    },
    {
      "cell_type": "markdown",
      "source": [
        "## Concatenation is performed when the variables are of same data type\n",
        "\n",
        "### if we encounter variables of different datatypes we use Strong Typing to convert the data types"
      ],
      "metadata": {
        "id": "I__6ZpmAbV2G"
      }
    },
    {
      "cell_type": "code",
      "source": [
        "\"Day \" + 1\n",
        "\n",
        "# here we encountered two different data types str and int.\n",
        "# hence in order to concat them we need to convert suitable one to data type of the other. "
      ],
      "metadata": {
        "colab": {
          "base_uri": "https://localhost:8080/",
          "height": 165
        },
        "id": "JWY4ldrUbg2i",
        "outputId": "bb86ecd7-3198-4734-e7eb-f0e95415d2ee"
      },
      "execution_count": null,
      "outputs": [
        {
          "output_type": "error",
          "ename": "TypeError",
          "evalue": "ignored",
          "traceback": [
            "\u001b[0;31m---------------------------------------------------------------------------\u001b[0m",
            "\u001b[0;31mTypeError\u001b[0m                                 Traceback (most recent call last)",
            "\u001b[0;32m<ipython-input-6-f9dbf96c2523>\u001b[0m in \u001b[0;36m<module>\u001b[0;34m\u001b[0m\n\u001b[0;32m----> 1\u001b[0;31m \u001b[0;34m\"Day \"\u001b[0m \u001b[0;34m+\u001b[0m \u001b[0;36m1\u001b[0m\u001b[0;34m\u001b[0m\u001b[0;34m\u001b[0m\u001b[0m\n\u001b[0m",
            "\u001b[0;31mTypeError\u001b[0m: can only concatenate str (not \"int\") to str"
          ]
        }
      ]
    },
    {
      "cell_type": "code",
      "source": [
        "\"Day\" + \" 1\""
      ],
      "metadata": {
        "colab": {
          "base_uri": "https://localhost:8080/",
          "height": 36
        },
        "id": "ObAkkq_AcHWh",
        "outputId": "46bcbe28-882c-4743-9028-9a52368ab475"
      },
      "execution_count": null,
      "outputs": [
        {
          "output_type": "execute_result",
          "data": {
            "text/plain": [
              "'Day 1'"
            ],
            "application/vnd.google.colaboratory.intrinsic+json": {
              "type": "string"
            }
          },
          "metadata": {},
          "execution_count": 8
        }
      ]
    },
    {
      "cell_type": "code",
      "source": [
        "A = \"day\"\n",
        "A = int(A)\n",
        "A\n",
        "\n",
        "# here we can see that string cannot be converted into int datatype thus we get a Value error."
      ],
      "metadata": {
        "colab": {
          "base_uri": "https://localhost:8080/",
          "height": 235
        },
        "id": "0WHeCuEzciBG",
        "outputId": "15641212-2d33-46a8-d7ef-83c43bc9fef2"
      },
      "execution_count": null,
      "outputs": [
        {
          "output_type": "error",
          "ename": "ValueError",
          "evalue": "ignored",
          "traceback": [
            "\u001b[0;31m---------------------------------------------------------------------------\u001b[0m",
            "\u001b[0;31mValueError\u001b[0m                                Traceback (most recent call last)",
            "\u001b[0;32m<ipython-input-11-3ee3e3142a80>\u001b[0m in \u001b[0;36m<module>\u001b[0;34m\u001b[0m\n\u001b[1;32m      1\u001b[0m \u001b[0mA\u001b[0m \u001b[0;34m=\u001b[0m \u001b[0;34m\"day\"\u001b[0m\u001b[0;34m\u001b[0m\u001b[0;34m\u001b[0m\u001b[0m\n\u001b[0;32m----> 2\u001b[0;31m \u001b[0mA\u001b[0m \u001b[0;34m=\u001b[0m \u001b[0mint\u001b[0m\u001b[0;34m(\u001b[0m\u001b[0mA\u001b[0m\u001b[0;34m)\u001b[0m\u001b[0;34m\u001b[0m\u001b[0;34m\u001b[0m\u001b[0m\n\u001b[0m\u001b[1;32m      3\u001b[0m \u001b[0mA\u001b[0m\u001b[0;34m\u001b[0m\u001b[0;34m\u001b[0m\u001b[0m\n\u001b[1;32m      4\u001b[0m \u001b[0;34m\u001b[0m\u001b[0m\n\u001b[1;32m      5\u001b[0m \u001b[0;31m# here we can see that string cannot be converted into int datatype thus we get a Value error.\u001b[0m\u001b[0;34m\u001b[0m\u001b[0;34m\u001b[0m\u001b[0;34m\u001b[0m\u001b[0m\n",
            "\u001b[0;31mValueError\u001b[0m: invalid literal for int() with base 10: 'day'"
          ]
        }
      ]
    },
    {
      "cell_type": "code",
      "source": [
        "A = float(input(\"Enter value of A: \")) \n",
        "B = int(input(\"Enter value of B: \")) \n",
        "\n",
        "print(f\"Sum of A and B is: {A+B}\")\n",
        "\n",
        "# If any of the value being input is of any other data type, an error can occur\n",
        "# in float we can input an integer value as well it wont give an error but visa versa is not possible."
      ],
      "metadata": {
        "colab": {
          "base_uri": "https://localhost:8080/",
          "height": 269
        },
        "id": "U0WQtgagc0MK",
        "outputId": "c3a8137e-bc02-41cf-e3d6-1f04ccb790e5"
      },
      "execution_count": null,
      "outputs": [
        {
          "name": "stdout",
          "output_type": "stream",
          "text": [
            "Enter value of A: 22\n",
            "Enter value of B: 25.2\n"
          ]
        },
        {
          "output_type": "error",
          "ename": "ValueError",
          "evalue": "ignored",
          "traceback": [
            "\u001b[0;31m---------------------------------------------------------------------------\u001b[0m",
            "\u001b[0;31mValueError\u001b[0m                                Traceback (most recent call last)",
            "\u001b[0;32m<ipython-input-13-fc3224e00f2f>\u001b[0m in \u001b[0;36m<module>\u001b[0;34m\u001b[0m\n\u001b[1;32m      1\u001b[0m \u001b[0mA\u001b[0m \u001b[0;34m=\u001b[0m \u001b[0mfloat\u001b[0m\u001b[0;34m(\u001b[0m\u001b[0minput\u001b[0m\u001b[0;34m(\u001b[0m\u001b[0;34m\"Enter value of A: \"\u001b[0m\u001b[0;34m)\u001b[0m\u001b[0;34m)\u001b[0m\u001b[0;34m\u001b[0m\u001b[0;34m\u001b[0m\u001b[0m\n\u001b[0;32m----> 2\u001b[0;31m \u001b[0mB\u001b[0m \u001b[0;34m=\u001b[0m \u001b[0mint\u001b[0m\u001b[0;34m(\u001b[0m\u001b[0minput\u001b[0m\u001b[0;34m(\u001b[0m\u001b[0;34m\"Enter value of B: \"\u001b[0m\u001b[0;34m)\u001b[0m\u001b[0;34m)\u001b[0m\u001b[0;34m\u001b[0m\u001b[0;34m\u001b[0m\u001b[0m\n\u001b[0m\u001b[1;32m      3\u001b[0m \u001b[0;34m\u001b[0m\u001b[0m\n\u001b[1;32m      4\u001b[0m \u001b[0mprint\u001b[0m\u001b[0;34m(\u001b[0m\u001b[0;34mf\"Sum of A and B is: {A+B}\"\u001b[0m\u001b[0;34m)\u001b[0m\u001b[0;34m\u001b[0m\u001b[0;34m\u001b[0m\u001b[0m\n\u001b[1;32m      5\u001b[0m \u001b[0;34m\u001b[0m\u001b[0m\n",
            "\u001b[0;31mValueError\u001b[0m: invalid literal for int() with base 10: '25.2'"
          ]
        }
      ]
    },
    {
      "cell_type": "code",
      "source": [],
      "metadata": {
        "id": "nTHJVd1wfKHx"
      },
      "execution_count": null,
      "outputs": []
    }
  ]
}