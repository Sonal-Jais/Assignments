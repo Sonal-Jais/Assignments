{
  "nbformat": 4,
  "nbformat_minor": 0,
  "metadata": {
    "colab": {
      "provenance": [],
      "collapsed_sections": [],
      "include_colab_link": true
    },
    "kernelspec": {
      "name": "python3",
      "display_name": "Python 3"
    },
    "language_info": {
      "name": "python"
    }
  },
  "cells": [
    {
      "cell_type": "markdown",
      "metadata": {
        "id": "view-in-github",
        "colab_type": "text"
      },
      "source": [
        "<a href=\"https://colab.research.google.com/github/Sonal-Jais/Assignments/blob/main/Sonal_FSDS_2_0_assign_004.ipynb\" target=\"_parent\"><img src=\"https://colab.research.google.com/assets/colab-badge.svg\" alt=\"Open In Colab\"/></a>"
      ]
    },
    {
      "cell_type": "markdown",
      "source": [
        "# ASSIGNMENT 04"
      ],
      "metadata": {
        "id": "dkGbTD94s6CD"
      }
    },
    {
      "cell_type": "markdown",
      "source": [
        "Q1. Find the largest number from the given list, use for loop.\n",
        "\n",
        "```\n",
        "numbers = [12, 75, 150, 180, 145, 525, 50]\n",
        "```"
      ],
      "metadata": {
        "id": "NCW2epdyuJ-a"
      }
    },
    {
      "cell_type": "markdown",
      "source": [
        "Q2. Print all the even number between (1, 12)."
      ],
      "metadata": {
        "id": "Qsg0i1fTwEQj"
      }
    },
    {
      "cell_type": "markdown",
      "source": [
        "Q3. Calculate the sum of all numbers from 1 to a given number\n",
        "    \n",
        "    Expected Output:\n",
        "\n",
        "    Enter number 10\n",
        "    \n",
        "    Sum is:  55\n"
      ],
      "metadata": {
        "id": "WG2QcDDhwi4a"
      }
    },
    {
      "cell_type": "markdown",
      "source": [
        "Q4. Write a program to display only those numbers from a list that satisfy the following conditions\n",
        "\n",
        "- The number must be divisible by five\n",
        "\n",
        "- If the number is greater than 150, then skip it and move to the next number\n",
        "\n",
        "- If the number is greater than 500, then stop the loop"
      ],
      "metadata": {
        "id": "mc7lLUm5f4Cq"
      }
    },
    {
      "cell_type": "code",
      "source": [
        "# Given:\n",
        "\n",
        "numbers = [12, 75, 150, 180, 145, 525, 50]"
      ],
      "metadata": {
        "id": "P3Ct2ocKf6Hy"
      },
      "execution_count": null,
      "outputs": []
    },
    {
      "cell_type": "markdown",
      "source": [
        "Q5. Print the given list in reverse order.\n",
        "\n",
        "```\n",
        "list1 = [10, 20, 30, 40, 50]\n",
        "```"
      ],
      "metadata": {
        "id": "rrxWvy7nMnAs"
      }
    },
    {
      "cell_type": "markdown",
      "source": [
        "Answer 1\n"
      ],
      "metadata": {
        "id": "XAuBayUEEM38"
      }
    },
    {
      "cell_type": "code",
      "source": [
        "numbers = [12, 75, 150, 180, 145, 525, 50]\n",
        "\n",
        "max = numbers[0]\n",
        "for i in numbers:\n",
        "  if(i>max):\n",
        "    max = i\n",
        "print (f\"the maximum element from the given list {numbers} is : {max}\")\n"
      ],
      "metadata": {
        "id": "z-GDgPn3Nr0y",
        "colab": {
          "base_uri": "https://localhost:8080/"
        },
        "outputId": "56668ca7-64e8-4ed3-8893-04e644b8ea81"
      },
      "execution_count": null,
      "outputs": [
        {
          "output_type": "stream",
          "name": "stdout",
          "text": [
            "the maximum element from the given list [12, 75, 150, 180, 145, 525, 50] is : 525\n"
          ]
        }
      ]
    },
    {
      "cell_type": "markdown",
      "source": [
        "Answer 2"
      ],
      "metadata": {
        "id": "89EMU3BuEQZA"
      }
    },
    {
      "cell_type": "code",
      "source": [
        "# Approach 1\n",
        "\n",
        "print (\"Printing even numbers between 1 to 12\")\n",
        "for i in range (1,12):\n",
        "  if(i%2!=0):\n",
        "    continue\n",
        "  print(i)\n"
      ],
      "metadata": {
        "colab": {
          "base_uri": "https://localhost:8080/"
        },
        "id": "RYkPI91YCVNr",
        "outputId": "0bd831b2-556e-42be-88e9-2fe38bb12503"
      },
      "execution_count": null,
      "outputs": [
        {
          "output_type": "stream",
          "name": "stdout",
          "text": [
            "Printing even numbers between 1 to 12\n",
            "2\n",
            "4\n",
            "6\n",
            "8\n",
            "10\n"
          ]
        }
      ]
    },
    {
      "cell_type": "code",
      "source": [
        "# Approach 2\n",
        "\n",
        "print (\"Printing even numbers between 1 to 12\")\n",
        "for i in range (1,12):\n",
        "    if (i%2==0):\n",
        "      print(i)"
      ],
      "metadata": {
        "colab": {
          "base_uri": "https://localhost:8080/"
        },
        "id": "-LPm8GJXEhne",
        "outputId": "f3ed7da8-57f3-4923-ccfc-2c624fe2dc6a"
      },
      "execution_count": null,
      "outputs": [
        {
          "output_type": "stream",
          "name": "stdout",
          "text": [
            "Printing even numbers between 1 to 12\n",
            "2\n",
            "4\n",
            "6\n",
            "8\n",
            "10\n"
          ]
        }
      ]
    },
    {
      "cell_type": "markdown",
      "source": [
        "Answer 3"
      ],
      "metadata": {
        "id": "NT3GcIx6G86W"
      }
    },
    {
      "cell_type": "code",
      "source": [
        "num = int(input(\"enter the number upto which sum is to be caculated from 1 is  \"))\n",
        "\n",
        "sum =0\n",
        "for i in range (1,num+1):\n",
        "  sum +=i\n",
        "print (f\"The expected output for sum is : {sum}\")"
      ],
      "metadata": {
        "colab": {
          "base_uri": "https://localhost:8080/"
        },
        "id": "k5DVBLwdFJNJ",
        "outputId": "9164556f-8f39-4241-a1e0-d7065954d1de"
      },
      "execution_count": null,
      "outputs": [
        {
          "output_type": "stream",
          "name": "stdout",
          "text": [
            "enter the number upto which sum is to be caculated from 1 is  10\n",
            " The expected output for sum is : 55\n"
          ]
        }
      ]
    },
    {
      "cell_type": "markdown",
      "source": [
        "Answer 4 \n",
        "\n",
        "wasn't able to interpret the expected output hence 2 approaches  "
      ],
      "metadata": {
        "id": "xPTyhq6MIHj_"
      }
    },
    {
      "cell_type": "code",
      "source": [
        " # Approach 1\n",
        "\n",
        "numbers = [12, 75, 150, 180, 145, 525, 50]\n",
        "\n",
        "for i in numbers:\n",
        " if i % 5==0:     # Step 1 checking if the number is divisible by 5 or not \n",
        "   if (i > 150):       # Step 2 within the first if block checking if the no. is greater then 150 \n",
        "     continue                    # if it is then continue statement is executed \n",
        "   elif i > 500:          # Step 3 checking if the no. is greater then 500 \n",
        "     break                        # if it is then the loop is terminated.\n",
        "   print(i)              # printing all those values which are divisible by 5 and less than 150 and 500"
      ],
      "metadata": {
        "colab": {
          "base_uri": "https://localhost:8080/"
        },
        "id": "g71-ZanbHiMW",
        "outputId": "3c8b967b-0058-4c1c-efe7-cb6c6350e04f"
      },
      "execution_count": null,
      "outputs": [
        {
          "output_type": "stream",
          "name": "stdout",
          "text": [
            "75\n",
            "150\n",
            "145\n",
            "50\n"
          ]
        }
      ]
    },
    {
      "cell_type": "code",
      "source": [
        " # Approach 2\n",
        "\n",
        "numbers = [12, 75, 150, 180, 145, 525, 50]\n",
        "\n",
        "for i in numbers:\n",
        "  if i >500 :      # checking if the no. is greater then 500  the loop won't  iterate till the last element.\n",
        "    break\n",
        "  elif i > 150 :    # checking if the no. is greater then 150\n",
        "    continue\n",
        "  elif i % 5 == 0:\n",
        "    print (i)"
      ],
      "metadata": {
        "colab": {
          "base_uri": "https://localhost:8080/"
        },
        "id": "g9b7QAUBI1zQ",
        "outputId": "6b7d6d90-1e98-41d5-cb52-9232bdcade2f"
      },
      "execution_count": null,
      "outputs": [
        {
          "output_type": "stream",
          "name": "stdout",
          "text": [
            "75\n",
            "150\n",
            "145\n"
          ]
        }
      ]
    },
    {
      "cell_type": "markdown",
      "source": [
        "Answer 5"
      ],
      "metadata": {
        "id": "Vh0-ZBufQ2J6"
      }
    },
    {
      "cell_type": "code",
      "source": [
        "list1 = [10, 20, 30, 40, 50]\n",
        "\n",
        "print (f'''printing the given list : {list1}\\nin the reverse order :''',list1[::-1])"
      ],
      "metadata": {
        "colab": {
          "base_uri": "https://localhost:8080/"
        },
        "id": "wKuHhsdlPtp2",
        "outputId": "08ddff9d-9717-412b-948c-09ccf4d39fae"
      },
      "execution_count": null,
      "outputs": [
        {
          "output_type": "stream",
          "name": "stdout",
          "text": [
            "printing the given list : [10, 20, 30, 40, 50]\n",
            "in the reverse order : [50, 40, 30, 20, 10]\n"
          ]
        }
      ]
    },
    {
      "cell_type": "code",
      "source": [],
      "metadata": {
        "id": "xPIq3D0GRe6G"
      },
      "execution_count": null,
      "outputs": []
    }
  ]
}