{
  "nbformat": 4,
  "nbformat_minor": 0,
  "metadata": {
    "colab": {
      "provenance": [],
      "collapsed_sections": [],
      "authorship_tag": "ABX9TyOgnvZA8s/aBu5UmVkuhjeu",
      "include_colab_link": true
    },
    "kernelspec": {
      "name": "python3",
      "display_name": "Python 3"
    },
    "language_info": {
      "name": "python"
    }
  },
  "cells": [
    {
      "cell_type": "markdown",
      "metadata": {
        "id": "view-in-github",
        "colab_type": "text"
      },
      "source": [
        "<a href=\"https://colab.research.google.com/github/Sonal-Jais/Assignments/blob/main/Assign_1_Submitted__by_SonalJ.ipynb\" target=\"_parent\"><img src=\"https://colab.research.google.com/assets/colab-badge.svg\" alt=\"Open In Colab\"/></a>"
      ]
    },
    {
      "cell_type": "code",
      "execution_count": null,
      "metadata": {
        "id": "l30sptt-GRBA",
        "colab": {
          "base_uri": "https://localhost:8080/"
        },
        "outputId": "fe75f169-2368-454a-c9bb-dca29a69acd2"
      },
      "outputs": [
        {
          "output_type": "execute_result",
          "data": {
            "text/plain": [
              "100.25"
            ]
          },
          "metadata": {},
          "execution_count": 1
        }
      ],
      "source": [
        "##Write an equation that uses multiplication, division, an exponent, addition, and subtraction that is equal to 100.25\n",
        "\n",
        ".25**2/25*100+101-1\n"
      ]
    },
    {
      "cell_type": "code",
      "source": [
        "## What is the value of the expression 4 * (6 + 5) Ans : 44\n",
        "print(4*(6+5))\n",
        "## What is the value of the expression 4 * 6 + 5  Ans : 29\n",
        "print (4*6+5)\n",
        "## What is the value of the expression 4 + 6 * 5  Ans : 34\n",
        "print (4+6*5)"
      ],
      "metadata": {
        "colab": {
          "base_uri": "https://localhost:8080/"
        },
        "id": "E68qLocaIsyn",
        "outputId": "31b9e255-bdfd-4dd8-9799-27902f546fe0"
      },
      "execution_count": null,
      "outputs": [
        {
          "output_type": "stream",
          "name": "stdout",
          "text": [
            "44\n",
            "29\n",
            "34\n"
          ]
        }
      ]
    },
    {
      "cell_type": "code",
      "source": [
        "## What is the type of the result of the expression 3 + 1.5 + 4? Ans : float\n",
        "\n",
        "s1 = 3+1.5+4\n",
        "print(type(s1))\n"
      ],
      "metadata": {
        "colab": {
          "base_uri": "https://localhost:8080/"
        },
        "id": "sIQvrb72IyjN",
        "outputId": "5f419d9c-49a8-4085-ea44-bfb6bd0284c5"
      },
      "execution_count": null,
      "outputs": [
        {
          "output_type": "stream",
          "name": "stdout",
          "text": [
            "<class 'float'>\n"
          ]
        }
      ]
    },
    {
      "cell_type": "code",
      "source": [
        "## What would you use to find a number’s square root, as well as its square?\n",
        "\n",
        "# Square root:\n",
        "print(49**(1/2))\n",
        "\n",
        "# Square:\n",
        "print(7**2)"
      ],
      "metadata": {
        "colab": {
          "base_uri": "https://localhost:8080/"
        },
        "id": "dwE6ErG7LPCV",
        "outputId": "ccd46124-d4cd-4e22-c71b-b9cc5eb2e2ef"
      },
      "execution_count": null,
      "outputs": [
        {
          "output_type": "stream",
          "name": "stdout",
          "text": [
            "7.0\n",
            "49\n"
          ]
        }
      ]
    },
    {
      "cell_type": "code",
      "source": [
        "s = 'hello'\n",
        "# Print out 'e' using indexing\n",
        "print(s[1])"
      ],
      "metadata": {
        "colab": {
          "base_uri": "https://localhost:8080/"
        },
        "id": "sV8kDBrFQMAw",
        "outputId": "0f3597b3-983a-4755-bf71-5edfecdfea6a"
      },
      "execution_count": null,
      "outputs": [
        {
          "output_type": "stream",
          "name": "stdout",
          "text": [
            "e\n"
          ]
        }
      ]
    },
    {
      "cell_type": "code",
      "source": [
        "s ='hello'\n",
        "# Reverse the string using slicing\n",
        "\n",
        "s1=s[::-1]\n",
        "print(s1)"
      ],
      "metadata": {
        "colab": {
          "base_uri": "https://localhost:8080/"
        },
        "id": "zgbwRKiSQTi4",
        "outputId": "2a017908-933d-43a2-ece9-5add55ef5667"
      },
      "execution_count": null,
      "outputs": [
        {
          "output_type": "stream",
          "name": "stdout",
          "text": [
            "olleh\n"
          ]
        }
      ]
    },
    {
      "cell_type": "code",
      "source": [
        "## Given the string hello, give two methods of producing the letter 'o' using indexing.\n",
        "s ='hello'\n",
        "# Print out the 'o'\n",
        "\n",
        "# Method 1:\n",
        "\n",
        "print(s[-1])\n",
        "\n",
        "# Method 2:\n",
        "print(s[4])\n"
      ],
      "metadata": {
        "colab": {
          "base_uri": "https://localhost:8080/"
        },
        "id": "S6cB2YYNQdbR",
        "outputId": "d7a24f32-2d78-4e01-d709-54e99d48409c"
      },
      "execution_count": null,
      "outputs": [
        {
          "output_type": "stream",
          "name": "stdout",
          "text": [
            "o\n",
            "o\n"
          ]
        }
      ]
    },
    {
      "cell_type": "code",
      "source": [
        "## Build this list [0,0,0] two separate ways.\n",
        "\n",
        "# Method 1:\n",
        "list = [0,0,[0]]\n",
        "\n",
        "# Method 2:\n",
        "list = [0,0,0]\n",
        "\n",
        "print (list)"
      ],
      "metadata": {
        "colab": {
          "base_uri": "https://localhost:8080/"
        },
        "id": "wsUCFLG_TMOx",
        "outputId": "9160f535-9c47-4936-a64c-1234cc3da787"
      },
      "execution_count": null,
      "outputs": [
        {
          "output_type": "stream",
          "name": "stdout",
          "text": [
            "[0, 0, 0]\n"
          ]
        }
      ]
    },
    {
      "cell_type": "code",
      "source": [
        "## Reassign 'hello' in this nested list to say 'goodbye' instead:\n",
        "\n",
        "list3 = [1,2,[3,4,'hello']]\n",
        "\n",
        "list3[2][2]='goodbye'\n",
        "print(list3)"
      ],
      "metadata": {
        "colab": {
          "base_uri": "https://localhost:8080/"
        },
        "id": "PiAx8p70UK2l",
        "outputId": "123ed0db-98de-4821-9d3b-4a26d78da91c"
      },
      "execution_count": null,
      "outputs": [
        {
          "output_type": "stream",
          "name": "stdout",
          "text": [
            "[1, 2, [3, 4, 'goodbye']]\n"
          ]
        }
      ]
    },
    {
      "cell_type": "code",
      "source": [
        "## Sort the list below:\n",
        "\n",
        "list4 = [5,3,4,6,1]\n",
        "\n",
        "list4.sort()\n",
        "print(list4)"
      ],
      "metadata": {
        "colab": {
          "base_uri": "https://localhost:8080/"
        },
        "id": "ERGvmT9EU6Or",
        "outputId": "d99728ae-d678-42fc-bed0-1718b7f2b4cc"
      },
      "execution_count": null,
      "outputs": [
        {
          "output_type": "stream",
          "name": "stdout",
          "text": [
            "[1, 3, 4, 5, 6]\n"
          ]
        }
      ]
    },
    {
      "cell_type": "code",
      "source": [
        "## Using keys and indexing, grab the 'hello' from the following dictionaries:\n",
        "\n",
        "d = {'simple_key':'hello'}\n",
        "print(d['simple_key'])\n",
        "\n",
        "\n",
        "d = {'k1':{'k2':'hello'}}\n",
        "print(d['k1']['k2'])\n",
        "\n",
        "\n",
        "d = {'k1':[{'nest_key':['this is deep',['hello']]}]}\n",
        "print(d['k1'][0]['nest_key'][1][::])\n",
        "         ## OR\n",
        "print(d['k1'][0]['nest_key'][1])\n",
        "\n",
        "\n",
        "d = {'k1':[1,2,{'k2':['this is tricky',{'tough':[1,2,['hello']]}]}]}\n",
        "print(d['k1'][2]['k2'][1]['tough'][2])\n",
        "\n"
      ],
      "metadata": {
        "colab": {
          "base_uri": "https://localhost:8080/"
        },
        "id": "A64GwlEyY6PU",
        "outputId": "b0afc27c-ffc2-4269-9694-a48998fbacc5"
      },
      "execution_count": null,
      "outputs": [
        {
          "output_type": "stream",
          "name": "stdout",
          "text": [
            "hello\n",
            "hello\n",
            "['hello']\n",
            "['hello']\n",
            "['hello']\n"
          ]
        }
      ]
    },
    {
      "cell_type": "code",
      "source": [
        "## Can you sort a dictionary? Why or why not?\n",
        "\n",
        "''' Ans : For accessing the values in a dictionary we use the key, \n",
        "          hence no need to sort the dictionary. '''\n"
      ],
      "metadata": {
        "id": "6f2MiJU4f9T9"
      },
      "execution_count": null,
      "outputs": []
    },
    {
      "cell_type": "code",
      "source": [
        "## What is the major difference between tuples and lists?\n",
        "\n",
        "''' tuples are created using the paranthesis.\n",
        "    Lists are mutable in nature whereas the tuples are immutable in nature.\n",
        "    Tuples are used for data integrity purpose.'''\n",
        "\n",
        " ##   How do you create a tuple?\n",
        "\n",
        "##tuples are created using the paranthesis.\n",
        "tt = (2,4,6,9)\n",
        "print (tt)\n",
        "print(type(tt))\n"
      ],
      "metadata": {
        "colab": {
          "base_uri": "https://localhost:8080/"
        },
        "id": "SGXqZDKKgeMl",
        "outputId": "7de5c1f5-e02e-46d4-e93d-452b7b659744"
      },
      "execution_count": null,
      "outputs": [
        {
          "output_type": "stream",
          "name": "stdout",
          "text": [
            "(2, 4, 6, 9)\n",
            "<class 'tuple'>\n"
          ]
        }
      ]
    },
    {
      "cell_type": "code",
      "source": [
        "## What is unique about a set?\n",
        "\n",
        "'''the elements in the set are unique.'''\n",
        "\n",
        "## Use a set to find the unique values of the list below:\n",
        "list5 = [1,2,2,33,4,4,11,22,3,3,2]\n",
        "\n",
        "ss = {1,2,2,33,4,4,11,22,3,3,2}\n",
        "'''OR'''\n",
        "sa = set([1,2,2,33,4,4,11,22,3,3,2])\n",
        "print(ss)\n",
        "print(sa)"
      ],
      "metadata": {
        "colab": {
          "base_uri": "https://localhost:8080/"
        },
        "id": "4tJ2Iw1NlNyL",
        "outputId": "8af8051d-b5a1-4984-9add-303e0a28ba4d"
      },
      "execution_count": null,
      "outputs": [
        {
          "output_type": "stream",
          "name": "stdout",
          "text": [
            "{1, 2, 33, 4, 3, 11, 22}\n",
            "{1, 2, 33, 4, 3, 11, 22}\n"
          ]
        }
      ]
    },
    {
      "cell_type": "code",
      "source": [
        "# Answer before running cell\n",
        "2 > 3\n",
        "'''Ans : is not true/false'''\n",
        "\n",
        "# Answer before running cell\n",
        "3 == 2.0\n",
        "'''Ans : is not true/false'''\n",
        "\n",
        "# Answer before running cell\n",
        "3.0 == 3\n",
        "'''Ans : is true/true'''\n",
        "\n",
        "# Answer before running cell\n",
        "4**0.5 != 2\n",
        "'''Ans : is not true/false'''"
      ],
      "metadata": {
        "id": "gS6f5O-HlNrt"
      },
      "execution_count": null,
      "outputs": []
    },
    {
      "cell_type": "code",
      "source": [
        "## Final Question: What is the boolean output of the cell block below?\n",
        "\n",
        "\n",
        "# two nested lists\n",
        "l_one = [1,2,[3,4]]\n",
        "l_two = [1,2,{'k1':4}]\n",
        "\n",
        "# True or False?\n",
        "l_one[2][0] >= l_two[2]['k1']\n",
        "\n",
        "#''' Ans : is not true'''"
      ],
      "metadata": {
        "colab": {
          "base_uri": "https://localhost:8080/"
        },
        "id": "V9qaHJPCpgyC",
        "outputId": "6c06d8f4-e1b6-4094-de2c-936d05bab33d"
      },
      "execution_count": null,
      "outputs": [
        {
          "output_type": "execute_result",
          "data": {
            "text/plain": [
              "False"
            ]
          },
          "metadata": {},
          "execution_count": 61
        }
      ]
    }
  ]
}