{
  "nbformat": 4,
  "nbformat_minor": 0,
  "metadata": {
    "colab": {
      "provenance": [],
      "authorship_tag": "ABX9TyPpf5T+2ICLlBElQ2MkCLYm",
      "include_colab_link": true
    },
    "kernelspec": {
      "name": "python3",
      "display_name": "Python 3"
    },
    "language_info": {
      "name": "python"
    }
  },
  "cells": [
    {
      "cell_type": "markdown",
      "metadata": {
        "id": "view-in-github",
        "colab_type": "text"
      },
      "source": [
        "<a href=\"https://colab.research.google.com/github/Sonal-Jais/Assignments/blob/main/Sonal_FSDS_2_0_assign_005.ipynb\" target=\"_parent\"><img src=\"https://colab.research.google.com/assets/colab-badge.svg\" alt=\"Open In Colab\"/></a>"
      ]
    },
    {
      "cell_type": "markdown",
      "source": [
        "# Assignment"
      ],
      "metadata": {
        "id": "cengllSamH_E"
      }
    },
    {
      "cell_type": "markdown",
      "source": [
        "# List, Tuple and Sets"
      ],
      "metadata": {
        "id": "Ly2EhBxFUyx6"
      }
    },
    {
      "cell_type": "markdown",
      "source": [
        "1. On amazon website we have the following available items -\n",
        "amazon_website = [(\"watch\", 5000), (\"phone\", 10000), (\"laptop\", 50000), (\"shirt\", 1000)]\n",
        "\n",
        " Take the user input N no. of times and find out the total cost to be paid?\n",
        "\n",
        " OR\n",
        "\n",
        " You can ask the user quntity or the count of item?\n",
        "\n",
        " if the item is not present in the amazon website then print that item as out   of stock and do add it total\n",
        "\n",
        " HINT: while, for loop.. indexing"
      ],
      "metadata": {
        "id": "cTsB15GGU7bB"
      }
    },
    {
      "cell_type": "code",
      "execution_count": 10,
      "metadata": {
        "colab": {
          "base_uri": "https://localhost:8080/"
        },
        "id": "buZS6EfgUSGB",
        "outputId": "242a8bdd-fe1b-4a01-e38a-defa3347416e"
      },
      "outputs": [
        {
          "output_type": "stream",
          "name": "stdout",
          "text": [
            "[('watch', 5000), ('phone', 10000), ('laptop', 50000), ('shirt', 1000)]\n",
            "\n",
            " enter the item to be purchased (input no more if not interested): watch\n",
            " \n",
            " item added to bag :  watch || cost  of the item : 5000 \n",
            "\n",
            "            total_cost : 5000\n",
            "\n",
            " enter the item to be purchased (input no more if not interested): phone\n",
            " \n",
            " item added to bag :  phone || cost  of the item : 10000 \n",
            "\n",
            "            total_cost : 15000\n",
            "\n",
            " enter the item to be purchased (input no more if not interested): laptop\n",
            " \n",
            " item added to bag :  laptop || cost  of the item : 50000 \n",
            "\n",
            "            total_cost : 65000\n",
            "\n",
            " enter the item to be purchased (input no more if not interested): no more\n",
            "\n",
            "***** would you like to check other items*****\n",
            "\n",
            " enter your choice (yes/no) : yes\n",
            "[('watch', 5000), ('phone', 10000), ('laptop', 50000), ('shirt', 1000)]\n",
            "\n",
            " enter the item to be purchased (input no more if not interested): phone\n",
            " \n",
            " item added to bag :  phone || cost  of the item : 10000 \n",
            "\n",
            "            total_cost : 75000\n",
            "\n",
            " enter the item to be purchased (input no more if not interested): no more\n",
            "\n",
            "***** would you like to check other items*****\n",
            "\n",
            " enter your choice (yes/no) : no\n",
            "\n",
            " finished shopping\n",
            "\n",
            "......Calculating ......\n",
            "\n",
            "********BILL TO BE PAID********\n",
            "           \n",
            "           Total cost : ₹ 75000\n"
          ]
        }
      ],
      "source": [
        "amazon_website = [(\"watch\", 5000), (\"phone\", 10000), (\"laptop\", 50000), (\"shirt\", 1000)]\n",
        "print(f\"{amazon_website}\")\n",
        "total_cost = 0\n",
        "flag = 0 \n",
        "while(True):\n",
        "  input_item = input(\"\\n enter the item to be purchased (input no more if not interested): \")  #### taking the user input for the items\n",
        "  for i in amazon_website:                                                              ### to iterate within the list of given items we use for loop\n",
        "    if (input_item == \"no more\"):                                                 ### using the if block to check wether user input is valid or if user doesnt wants to buy more \n",
        "        print(\"\\n***** would you like to check other items*****\")\n",
        "        inp = input(\"\\n enter your choice (yes/no) : \")                                 ## taking user choice to continue further or not......\n",
        "        if (inp == \"yes\"):\n",
        "          print(amazon_website)                                                       \n",
        "          break\n",
        "        else:\n",
        "          flag +=1                                                                   ### sending the control out of the for loop and increasing the flag counter  \n",
        "          print(\"\\n finished shopping\")\n",
        "          break\n",
        "    elif(input_item ==i[0]):                                                       ### elif block which does the actual calculation if the input item is present in list\n",
        "      total_cost = total_cost + i[1]                                               ### total_cost variable stores the cumiulative sum for all the items \n",
        "      print(f''' \\n item added to bag :  {i[0]} || cost  of the item : {i[1]}''')  ### this print statement prints the individal selected item and its cost. \n",
        "  if (flag ==1):                                                                    ### if the flag value is raised to 1 then the infinte while loop is terminated. \n",
        "    print(\"\\n......Calculating ......\\n\")\n",
        "    break\n",
        "              \n",
        "print (\"\"\"********BILL TO BE PAID********\n",
        "           \n",
        "           Total cost : ₹\"\"\",total_cost)"
      ]
    },
    {
      "cell_type": "markdown",
      "source": [
        "2. What will be the output of the following code snippet?\n",
        "\n",
        "     arr = [1, 2, 3, 4, 5, 6]\n",
        "     \n",
        "     for i in range(1, 6):\n",
        "\n",
        "     arr[i - 1] = arr[i]\n",
        "\n",
        "     for i in range(0, 6): \n",
        "\n",
        "     print(arr[i], end = \" \")"
      ],
      "metadata": {
        "id": "Tfsdnpy8i8-n"
      }
    },
    {
      "cell_type": "code",
      "source": [
        "# Answe 2   \n",
        "# the 1st loop runs from 1 to 5 i = 1\n",
        "# iterating the list by the second instruction i.e arr [1-1] = arr[1] ,the value of the 1st element changes to the value of 2nd element resulting arr[2,2,3,4,5,6] i++\n",
        "# i = 2 again iterating the list arr[2-1] =[2] resulting arr [2,3,3,4,5,6] i++\n",
        "# i = 3 again iterating the list arr[3-1] =[3] resulting arr [2,3,4,4,5,6] i++\n",
        "# i = 4 again iterating the list arr[4-1] =[4] resulting arr [2,3,4,5,5,6] i++\n",
        "# i = 5 again iterating the list arr[5-1] =[4] resulting arr [2,3,4,5,6,6]   the loop terminates here \n",
        "\n",
        "## in the next line another loop is being run to print the elements for the resultant list \n",
        "\n",
        "# the output is  -: 2 3 4 5 6 6"
      ],
      "metadata": {
        "id": "NgN9DunBVoPR"
      },
      "execution_count": null,
      "outputs": []
    }
  ]
}