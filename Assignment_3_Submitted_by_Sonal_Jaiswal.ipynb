{
  "cells": [
    {
      "cell_type": "markdown",
      "metadata": {
        "id": "view-in-github",
        "colab_type": "text"
      },
      "source": [
        "<a href=\"https://colab.research.google.com/github/Sonal-Jais/Assignments/blob/main/Assignment_3_Submitted_by_Sonal_Jaiswal.ipynb\" target=\"_parent\"><img src=\"https://colab.research.google.com/assets/colab-badge.svg\" alt=\"Open In Colab\"/></a>"
      ]
    },
    {
      "cell_type": "markdown",
      "metadata": {
        "id": "j9Tc-0rYTrLh"
      },
      "source": [
        "# Assignment 3 Functions\n",
        "\n",
        "Problems are arranged in increasing difficulty:\n",
        "* Warmup - these can be solved using basic comparisons and methods\n",
        "* Level 1 - these may involve if/then conditional statements and simple methods\n",
        "* Level 2 - these may require iterating over sequences, usually with some kind of loop\n",
        "* Challenging - these will take some creativity to solve"
      ]
    },
    {
      "cell_type": "markdown",
      "metadata": {
        "id": "M6EJLCqjTrMB"
      },
      "source": [
        "## WARMUP SECTION:"
      ]
    },
    {
      "cell_type": "markdown",
      "metadata": {
        "id": "HE_-P1cWTrMJ"
      },
      "source": [
        "#### LESSER OF TWO EVENS: Write a function that returns the lesser of two given numbers *if* both numbers are even, but returns the greater if one or both numbers are odd\n",
        "    lesser_of_two_evens(2,4) --> 2\n",
        "    lesser_of_two_evens(2,5) --> 5"
      ]
    },
    {
      "cell_type": "code",
      "execution_count": null,
      "metadata": {
        "collapsed": true,
        "id": "8Gs9le3iTrMY"
      },
      "outputs": [],
      "source": [
        "def lesser_of_two_evens(a,b):\n",
        "    if(a%2==0 and b%2==0):\n",
        "      if(a<b):\n",
        "        return a\n",
        "      else:\n",
        "        return b\n",
        "    elif(a%2==0):\n",
        "      return b\n",
        "    else:\n",
        "      return a"
      ]
    },
    {
      "cell_type": "code",
      "execution_count": null,
      "metadata": {
        "collapsed": true,
        "id": "-EaYPjn0TrMi",
        "colab": {
          "base_uri": "https://localhost:8080/"
        },
        "outputId": "c520a755-8915-4894-f9a6-c046960b0532"
      },
      "outputs": [
        {
          "output_type": "stream",
          "name": "stdout",
          "text": [
            "2\n"
          ]
        }
      ],
      "source": [
        "# Check\n",
        "x= lesser_of_two_evens(2,4)\n",
        "print(x)"
      ]
    },
    {
      "cell_type": "code",
      "execution_count": null,
      "metadata": {
        "collapsed": true,
        "id": "Jsd0kYILTrMn",
        "colab": {
          "base_uri": "https://localhost:8080/"
        },
        "outputId": "f6f841fe-8967-44e1-e6d3-e8cb68fcc07c"
      },
      "outputs": [
        {
          "output_type": "execute_result",
          "data": {
            "text/plain": [
              "5"
            ]
          },
          "metadata": {},
          "execution_count": 4
        }
      ],
      "source": [
        "# Check\n",
        "lesser_of_two_evens(2,5)"
      ]
    },
    {
      "cell_type": "markdown",
      "metadata": {
        "id": "wF3ZMyxYTrMs"
      },
      "source": [
        "#### ANIMAL CRACKERS: Write a function takes a two-word string and returns True if both words begin with same letter\n",
        "    animal_crackers('Levelheaded Llama') --> True\n",
        "    animal_crackers('Crazy Kangaroo') --> False"
      ]
    },
    {
      "cell_type": "code",
      "execution_count": null,
      "metadata": {
        "collapsed": true,
        "id": "FLN8dMYhTrMz"
      },
      "outputs": [],
      "source": [
        "def animal_crackers(text):\n",
        "    s1,s2=text.split()\n",
        "    if(s1[0]==s2[0]):\n",
        "      return True\n",
        "    else:\n",
        "      return False"
      ]
    },
    {
      "cell_type": "code",
      "execution_count": null,
      "metadata": {
        "collapsed": true,
        "id": "J0XFjeLTTrM6",
        "colab": {
          "base_uri": "https://localhost:8080/"
        },
        "outputId": "eab73099-bfc8-495e-e093-73f47ca0a544"
      },
      "outputs": [
        {
          "output_type": "execute_result",
          "data": {
            "text/plain": [
              "True"
            ]
          },
          "metadata": {},
          "execution_count": 6
        }
      ],
      "source": [
        "# Check\n",
        "animal_crackers('Levelheaded Llama')"
      ]
    },
    {
      "cell_type": "code",
      "execution_count": null,
      "metadata": {
        "collapsed": true,
        "id": "F8h8ky4rTrNA",
        "colab": {
          "base_uri": "https://localhost:8080/"
        },
        "outputId": "9d9dec7c-da93-4ca6-ca70-5715e1c79d5d"
      },
      "outputs": [
        {
          "output_type": "execute_result",
          "data": {
            "text/plain": [
              "False"
            ]
          },
          "metadata": {},
          "execution_count": 7
        }
      ],
      "source": [
        "# Check\n",
        "animal_crackers('Crazy Kangaroo')"
      ]
    },
    {
      "cell_type": "markdown",
      "metadata": {
        "id": "arJAwpJ0TrNE"
      },
      "source": [
        "**Question 4\n",
        "Use a list comprehension to create a list of squared numbers (n*n). The function receives the variables start and end, and returns a list of squares of consecutive numbers between start and end inclusively. For example, squares(2, 3) should return [4, 9]**"
      ]
    },
    {
      "cell_type": "code",
      "execution_count": null,
      "metadata": {
        "id": "QiQUtdu7TrNI"
      },
      "outputs": [],
      "source": [
        "def squares(start, end):\n",
        "    l=[x**2 for x in range(start,(end+1))]\n",
        "    return l\n"
      ]
    },
    {
      "cell_type": "code",
      "execution_count": null,
      "metadata": {
        "id": "DbImus0HTrNL",
        "colab": {
          "base_uri": "https://localhost:8080/"
        },
        "outputId": "3d99ea86-7899-4032-b698-1352900552a6"
      },
      "outputs": [
        {
          "output_type": "stream",
          "name": "stdout",
          "text": [
            "[4, 9]\n",
            "[1, 4, 9, 16, 25]\n",
            "[0, 1, 4, 9, 16, 25, 36, 49, 64, 81, 100]\n"
          ]
        }
      ],
      "source": [
        "print(squares(2, 3)) # Should be [4, 9]\n",
        "print(squares(1, 5)) # Should be [1, 4, 9, 16, 25]\n",
        "print(squares(0, 10)) # Should be [0, 1, 4, 9, 16, 25, 36, 49, 64, 81, 100]"
      ]
    },
    {
      "cell_type": "markdown",
      "metadata": {
        "id": "iAggugbjTrNN"
      },
      "source": [
        "#### MAKES TWENTY: Given two integers, return True if the sum of the integers is 20 *or* if one of the integers is 20. If not, return False\n",
        "\n",
        "    makes_twenty(20,10) --> True\n",
        "    makes_twenty(12,8) --> True\n",
        "    makes_twenty(2,3) --> False"
      ]
    },
    {
      "cell_type": "code",
      "execution_count": null,
      "metadata": {
        "collapsed": true,
        "id": "EadPVyrlTrNQ"
      },
      "outputs": [],
      "source": [
        "def makes_twenty(n1,n2):\n",
        "    if(n1==20 or n2==20):\n",
        "      return True\n",
        "    elif((n1+n2) == 20):\n",
        "      return True\n",
        "    else:\n",
        "      return False"
      ]
    },
    {
      "cell_type": "code",
      "execution_count": null,
      "metadata": {
        "collapsed": true,
        "id": "HGYbX38yTrNT",
        "colab": {
          "base_uri": "https://localhost:8080/"
        },
        "outputId": "f5bf012e-c338-4f15-95ae-e01aaebcc969"
      },
      "outputs": [
        {
          "output_type": "execute_result",
          "data": {
            "text/plain": [
              "True"
            ]
          },
          "metadata": {},
          "execution_count": 14
        }
      ],
      "source": [
        "# Check\n",
        "makes_twenty(20,10)"
      ]
    },
    {
      "cell_type": "code",
      "execution_count": null,
      "metadata": {
        "collapsed": true,
        "id": "iJG_xSmbTrNV",
        "colab": {
          "base_uri": "https://localhost:8080/"
        },
        "outputId": "e7293810-2d67-4d68-c735-3c0de18a06b3"
      },
      "outputs": [
        {
          "output_type": "execute_result",
          "data": {
            "text/plain": [
              "False"
            ]
          },
          "metadata": {},
          "execution_count": 15
        }
      ],
      "source": [
        "# Check\n",
        "makes_twenty(2,3)"
      ]
    },
    {
      "cell_type": "markdown",
      "metadata": {
        "id": "ZOPmEMMuTrNY"
      },
      "source": [
        "# LEVEL 1 PROBLEMS"
      ]
    },
    {
      "cell_type": "markdown",
      "metadata": {
        "id": "5kaw4C4fTrNa"
      },
      "source": [
        "#### OLD MACDONALD: Write a function that capitalizes the first and fourth letters of a name\n",
        "     \n",
        "    old_macdonald('macdonald') --> MacDonald\n",
        "    \n",
        "Note: `'macdonald'.capitalize()` returns `'Macdonald'`"
      ]
    },
    {
      "cell_type": "code",
      "execution_count": null,
      "metadata": {
        "collapsed": true,
        "id": "3zu6bGINTrNd"
      },
      "outputs": [],
      "source": [
        "def old_macdonald(name):\n",
        "  for x in range(len(name)):\n",
        "    if(x==3 or x==0):\n",
        "      n1=name[x].capitalize()\n",
        "    else:\n",
        "      n1=name[x]\n",
        "      print(n1)\n",
        "    return n1"
      ]
    },
    {
      "cell_type": "code",
      "execution_count": null,
      "metadata": {
        "id": "ZtYAsUq7TrNg"
      },
      "outputs": [],
      "source": [
        "# Check\n",
        "old_macdonald('macdonald')"
      ]
    },
    {
      "cell_type": "markdown",
      "metadata": {
        "id": "Nz3XlEgjTrNi"
      },
      "source": [
        "#### MASTER YODA: Given a sentence, return a sentence with the words reversed\n",
        "\n",
        "    master_yoda('I am home') --> 'home am I'\n",
        "    master_yoda('We are ready') --> 'ready are We'\n",
        "    \n",
        "Note: The .join() method may be useful here. The .join() method allows you to join together strings in a list with some connector string. For example, some uses of the .join() method:\n",
        "\n",
        "    >>> \"--\".join(['a','b','c'])\n",
        "    >>> 'a--b--c'\n",
        "\n",
        "This means if you had a list of words you wanted to turn back into a sentence, you could just join them with a single space string:\n",
        "\n",
        "    >>> \" \".join(['Hello','world'])\n",
        "    >>> \"Hello world\""
      ]
    },
    {
      "cell_type": "code",
      "execution_count": null,
      "metadata": {
        "collapsed": true,
        "id": "Ja9r7O0BTrNk"
      },
      "outputs": [],
      "source": [
        "def master_yoda(text):\n",
        "  b=''\n",
        "  for x in text.split():\n",
        "    b=x+\" \"+b\n",
        "  return b"
      ]
    },
    {
      "cell_type": "code",
      "execution_count": null,
      "metadata": {
        "collapsed": true,
        "id": "IF06MY7TTrNp",
        "colab": {
          "base_uri": "https://localhost:8080/",
          "height": 36
        },
        "outputId": "1aadd835-c34f-47a7-c1b6-bf703b44a9f8"
      },
      "outputs": [
        {
          "output_type": "execute_result",
          "data": {
            "text/plain": [
              "'home am I '"
            ],
            "application/vnd.google.colaboratory.intrinsic+json": {
              "type": "string"
            }
          },
          "metadata": {},
          "execution_count": 48
        }
      ],
      "source": [
        "# Check\n",
        "master_yoda('I am home')"
      ]
    },
    {
      "cell_type": "code",
      "execution_count": null,
      "metadata": {
        "collapsed": true,
        "id": "rcajfo6dTrNr",
        "colab": {
          "base_uri": "https://localhost:8080/",
          "height": 36
        },
        "outputId": "c74f87c7-6db8-4971-e606-10d4862fc783"
      },
      "outputs": [
        {
          "output_type": "execute_result",
          "data": {
            "text/plain": [
              "'ready are We '"
            ],
            "application/vnd.google.colaboratory.intrinsic+json": {
              "type": "string"
            }
          },
          "metadata": {},
          "execution_count": 49
        }
      ],
      "source": [
        "# Check\n",
        "master_yoda('We are ready')"
      ]
    },
    {
      "cell_type": "markdown",
      "metadata": {
        "id": "rLwCfSDfTrNt"
      },
      "source": [
        "#### ALMOST THERE: Given an integer n, return True if n is within 10 of either 100 or 200\n",
        "\n",
        "    almost_there(90) --> True\n",
        "    almost_there(104) --> True\n",
        "    almost_there(150) --> False\n",
        "    almost_there(209) --> True\n",
        "    \n",
        "NOTE: `abs(num)` returns the absolute value of a number"
      ]
    },
    {
      "cell_type": "code",
      "execution_count": null,
      "metadata": {
        "collapsed": true,
        "id": "tiqJJ8aTTrNu"
      },
      "outputs": [],
      "source": [
        "def almost_there(n):\n",
        "    if (n>=90 and n<=110 or n>=190 and n<=210):\n",
        "      return True\n",
        "    else:\n",
        "      return False"
      ]
    },
    {
      "cell_type": "code",
      "execution_count": null,
      "metadata": {
        "collapsed": true,
        "id": "BeVCXw4yTrNv",
        "colab": {
          "base_uri": "https://localhost:8080/"
        },
        "outputId": "0637f402-ff47-4ed1-bcfb-7ca6e8fbee71"
      },
      "outputs": [
        {
          "output_type": "execute_result",
          "data": {
            "text/plain": [
              "True"
            ]
          },
          "metadata": {},
          "execution_count": 54
        }
      ],
      "source": [
        "# Check\n",
        "almost_there(104)"
      ]
    },
    {
      "cell_type": "code",
      "execution_count": null,
      "metadata": {
        "collapsed": true,
        "id": "OVHboqc_TrNx",
        "colab": {
          "base_uri": "https://localhost:8080/"
        },
        "outputId": "33009e2b-5fff-4d78-8c5e-7440278b4260"
      },
      "outputs": [
        {
          "output_type": "execute_result",
          "data": {
            "text/plain": [
              "False"
            ]
          },
          "metadata": {},
          "execution_count": 55
        }
      ],
      "source": [
        "# Check\n",
        "almost_there(150)"
      ]
    },
    {
      "cell_type": "code",
      "execution_count": null,
      "metadata": {
        "collapsed": true,
        "id": "oD2h3GCOTrNx",
        "colab": {
          "base_uri": "https://localhost:8080/"
        },
        "outputId": "a887c219-ae4c-486e-d6cd-90742dc0b124"
      },
      "outputs": [
        {
          "output_type": "execute_result",
          "data": {
            "text/plain": [
              "False"
            ]
          },
          "metadata": {},
          "execution_count": 59
        }
      ],
      "source": [
        "# Check\n",
        "almost_there(209)"
      ]
    },
    {
      "cell_type": "markdown",
      "metadata": {
        "id": "kZGLnDGgTrNy"
      },
      "source": [
        "**The highlight_word function changes the given word in a sentence to its upper-case version. For example, highlight_word(\"Have a nice day\", \"nice\") returns \"Have a NICE day\". Can you write this function in just one line?**"
      ]
    },
    {
      "cell_type": "code",
      "execution_count": null,
      "metadata": {
        "id": "xC_EVuoVTrNz"
      },
      "outputs": [],
      "source": [
        "def highlight_word(sentence, word):\n",
        "  return(sentence.replace(word,word.upper()))\n"
      ]
    },
    {
      "cell_type": "code",
      "execution_count": null,
      "metadata": {
        "id": "i8RclKRTTrN0",
        "colab": {
          "base_uri": "https://localhost:8080/"
        },
        "outputId": "9f7e6bb4-b609-4e6d-8711-f1c6e015e3e2"
      },
      "outputs": [
        {
          "output_type": "stream",
          "name": "stdout",
          "text": [
            "Have a NICE day\n",
            "Shhh, don't be so LOUD!\n",
            "Automating with Python is FUN\n"
          ]
        }
      ],
      "source": [
        "print(highlight_word(\"Have a nice day\", \"nice\"))\n",
        "# Have a NICE day\n",
        "print(highlight_word(\"Shhh, don't be so loud!\", \"loud!\"))\n",
        "#Shhh, don't be so LOUD!\n",
        "print(highlight_word(\"Automating with Python is fun\", \"fun\"))\n",
        "#Automating with Python is FUN"
      ]
    },
    {
      "cell_type": "markdown",
      "metadata": {
        "id": "TO3oRv3oTrN1"
      },
      "source": [
        "**Complete the code to iterate through the keys and values of the car_prices dictionary, printing out some information about each one**"
      ]
    },
    {
      "cell_type": "code",
      "execution_count": null,
      "metadata": {
        "id": "KSJ1a_NxTrN2"
      },
      "outputs": [],
      "source": [
        "def car_listing(car_prices):\n",
        "    return\n",
        "\n",
        "print(car_listing({\"Kia Soul\":19000, \"Lamborghini Diablo\":55000, \"Ford Fiesta\":13000, \"Toyota Prius\":24000}))"
      ]
    },
    {
      "cell_type": "markdown",
      "metadata": {
        "id": "FmgMk-czTrN3"
      },
      "source": [
        "# LEVEL 2 PROBLEMS"
      ]
    },
    {
      "cell_type": "markdown",
      "metadata": {
        "id": "BvAi7zaKTrN5"
      },
      "source": [
        "#### FIND 33: \n",
        "\n",
        "Given a list of ints, return True if the array contains a 3 next to a 3 somewhere.\n",
        "\n",
        "    has_33([1, 3, 3]) → True\n",
        "    has_33([1, 3, 1, 3]) → False\n",
        "    has_33([3, 1, 3]) → False"
      ]
    },
    {
      "cell_type": "code",
      "execution_count": null,
      "metadata": {
        "collapsed": true,
        "id": "d498LGzWTrN8"
      },
      "outputs": [],
      "source": [
        "def has_33(nums):\n",
        "    for i in range(0, len(nums)-1):\n",
        "        if nums[i] == 3 and nums[i+1] == 3:\n",
        "            return True\n",
        "\n",
        "    return False"
      ]
    },
    {
      "cell_type": "code",
      "execution_count": null,
      "metadata": {
        "collapsed": true,
        "id": "P-hL6Vr8TrN-",
        "colab": {
          "base_uri": "https://localhost:8080/"
        },
        "outputId": "e7381c87-f2cc-4e9f-bc1c-d871bb7af41f"
      },
      "outputs": [
        {
          "output_type": "execute_result",
          "data": {
            "text/plain": [
              "True"
            ]
          },
          "metadata": {},
          "execution_count": 101
        }
      ],
      "source": [
        "# Check\n",
        "has_33([1, 3, 3])"
      ]
    },
    {
      "cell_type": "code",
      "execution_count": null,
      "metadata": {
        "collapsed": true,
        "id": "QNP18L2nTrN_",
        "colab": {
          "base_uri": "https://localhost:8080/"
        },
        "outputId": "c1e19617-7651-457f-d4a8-ef45b7ff8fba"
      },
      "outputs": [
        {
          "output_type": "execute_result",
          "data": {
            "text/plain": [
              "False"
            ]
          },
          "metadata": {},
          "execution_count": 102
        }
      ],
      "source": [
        "# Check\n",
        "has_33([1, 3, 1, 3])"
      ]
    },
    {
      "cell_type": "code",
      "execution_count": null,
      "metadata": {
        "collapsed": true,
        "id": "rsbPzQwLTrN_",
        "colab": {
          "base_uri": "https://localhost:8080/"
        },
        "outputId": "15293026-62ad-4632-efd2-bc1ad6c29fb6"
      },
      "outputs": [
        {
          "output_type": "execute_result",
          "data": {
            "text/plain": [
              "False"
            ]
          },
          "metadata": {},
          "execution_count": 103
        }
      ],
      "source": [
        "# Check\n",
        "has_33([3, 1, 3])"
      ]
    },
    {
      "cell_type": "markdown",
      "metadata": {
        "id": "gGJtqoyiTrOA"
      },
      "source": [
        "#### PAPER DOLL: Given a string, return a string where for every character in the original there are three characters\n",
        "    paper_doll('Hello') --> 'HHHeeellllllooo'\n",
        "    paper_doll('Mississippi') --> 'MMMiiissssssiiippppppiii'"
      ]
    },
    {
      "cell_type": "code",
      "execution_count": null,
      "metadata": {
        "collapsed": true,
        "id": "kAxCctd_TrOB"
      },
      "outputs": [],
      "source": [
        "def paper_doll(text):\n",
        "    s1 = ''\n",
        "    for x in text:\n",
        "        s1 = s1+x+x+x\n",
        "    return s1"
      ]
    },
    {
      "cell_type": "code",
      "execution_count": null,
      "metadata": {
        "collapsed": true,
        "id": "k1cEmk8DTrOC",
        "colab": {
          "base_uri": "https://localhost:8080/",
          "height": 36
        },
        "outputId": "aa05b2ab-adab-4370-b225-fa73f2aa5286"
      },
      "outputs": [
        {
          "output_type": "execute_result",
          "data": {
            "text/plain": [
              "'HHHeeellllllooo'"
            ],
            "application/vnd.google.colaboratory.intrinsic+json": {
              "type": "string"
            }
          },
          "metadata": {},
          "execution_count": 105
        }
      ],
      "source": [
        "# Check\n",
        "paper_doll('Hello')"
      ]
    },
    {
      "cell_type": "code",
      "execution_count": null,
      "metadata": {
        "collapsed": true,
        "id": "4Q-SptiwTrOD",
        "colab": {
          "base_uri": "https://localhost:8080/",
          "height": 36
        },
        "outputId": "f81ccbda-2f58-4812-9bd3-17544219f05f"
      },
      "outputs": [
        {
          "output_type": "execute_result",
          "data": {
            "text/plain": [
              "'MMMiiissssssiiissssssiiippppppiii'"
            ],
            "application/vnd.google.colaboratory.intrinsic+json": {
              "type": "string"
            }
          },
          "metadata": {},
          "execution_count": 106
        }
      ],
      "source": [
        "# Check\n",
        "paper_doll('Mississippi')"
      ]
    },
    {
      "cell_type": "markdown",
      "metadata": {
        "id": "jG1WZuwgTrOD"
      },
      "source": [
        "#### BLACKJACK: Given three integers between 1 and 11, if their sum is less than or equal to 21, return their sum. If their sum exceeds 21 *and* there's an eleven, reduce the total sum by 10. Finally, if the sum (even after adjustment) exceeds 21, return 'BUST'\n",
        "    blackjack(5,6,7) --> 18\n",
        "    blackjack(9,9,9) --> 'BUST'\n",
        "    blackjack(9,9,11) --> 19"
      ]
    },
    {
      "cell_type": "code",
      "execution_count": null,
      "metadata": {
        "collapsed": true,
        "id": "ldDasWHmTrOE"
      },
      "outputs": [],
      "source": [
        "def blackjack(a,b,c):\n",
        "  l = [a, b, c]\n",
        "  if sum(l) <= 21:\n",
        "    return sum(l)\n",
        "  if sum(l) > 21:\n",
        "    if 11 in l:\n",
        "      if sum(l)-10 > 21:\n",
        "        return 'BUST'\n",
        "      else: \n",
        "        return sum(l)-10\n",
        "  return 'BUST'"
      ]
    },
    {
      "cell_type": "code",
      "execution_count": null,
      "metadata": {
        "collapsed": true,
        "id": "ocEZJ6Z3TrOF",
        "colab": {
          "base_uri": "https://localhost:8080/"
        },
        "outputId": "65b6ee3a-dbb9-46cd-d29a-207b196204fb"
      },
      "outputs": [
        {
          "output_type": "execute_result",
          "data": {
            "text/plain": [
              "18"
            ]
          },
          "metadata": {},
          "execution_count": 109
        }
      ],
      "source": [
        "# Check\n",
        "blackjack(5,6,7)"
      ]
    },
    {
      "cell_type": "code",
      "execution_count": null,
      "metadata": {
        "collapsed": true,
        "id": "MmxNnlN2TrOG",
        "colab": {
          "base_uri": "https://localhost:8080/",
          "height": 36
        },
        "outputId": "54763154-ebe1-4815-c316-03688da180b8"
      },
      "outputs": [
        {
          "output_type": "execute_result",
          "data": {
            "text/plain": [
              "'BUST'"
            ],
            "application/vnd.google.colaboratory.intrinsic+json": {
              "type": "string"
            }
          },
          "metadata": {},
          "execution_count": 110
        }
      ],
      "source": [
        "# Check\n",
        "blackjack(9,9,9)"
      ]
    },
    {
      "cell_type": "code",
      "execution_count": null,
      "metadata": {
        "collapsed": true,
        "id": "1nrSh7qxTrOH",
        "colab": {
          "base_uri": "https://localhost:8080/"
        },
        "outputId": "d8a6dc90-0878-4e5a-90da-ac444bc64868"
      },
      "outputs": [
        {
          "output_type": "execute_result",
          "data": {
            "text/plain": [
              "19"
            ]
          },
          "metadata": {},
          "execution_count": 111
        }
      ],
      "source": [
        "# Check\n",
        "blackjack(9,9,11)"
      ]
    },
    {
      "cell_type": "markdown",
      "metadata": {
        "id": "yfFUjAQvTrOH"
      },
      "source": [
        "#### SUMMER OF '69: Return the sum of the numbers in the array, except ignore sections of numbers starting with a 6 and extending to the next 9 (every 6 will be followed by at least one 9). Return 0 for no numbers.\n",
        " \n",
        "    summer_69([1, 3, 5]) --> 9\n",
        "    summer_69([4, 5, 6, 7, 8, 9]) --> 9\n",
        "    summer_69([2, 1, 6, 9, 11]) --> 14"
      ]
    },
    {
      "cell_type": "code",
      "execution_count": null,
      "metadata": {
        "collapsed": true,
        "id": "EWWeotbnTrOI"
      },
      "outputs": [],
      "source": [
        "def summer_69(arr):\n",
        "  Sum=0\n",
        "  for n in range(0, len(arr)):\n",
        "                if arr[n]<6:\n",
        "                    Sum+=arr[n]\n",
        "                elif arr[n]>9:\n",
        "                    Sum+=arr[n]\n",
        "                else:\n",
        "                    pass\n",
        "            \n",
        "  return Sum"
      ]
    },
    {
      "cell_type": "code",
      "execution_count": null,
      "metadata": {
        "collapsed": true,
        "id": "R_aMteIjTrOK",
        "colab": {
          "base_uri": "https://localhost:8080/"
        },
        "outputId": "9f1b407e-cf16-4494-8a86-dd10bdf7b90c"
      },
      "outputs": [
        {
          "output_type": "execute_result",
          "data": {
            "text/plain": [
              "9"
            ]
          },
          "metadata": {},
          "execution_count": 3
        }
      ],
      "source": [
        "# Check\n",
        "summer_69([1, 3, 5])"
      ]
    },
    {
      "cell_type": "code",
      "execution_count": null,
      "metadata": {
        "collapsed": true,
        "id": "34Ek6NmETrOM",
        "colab": {
          "base_uri": "https://localhost:8080/"
        },
        "outputId": "49ec975d-58c9-4619-f5cc-dc94c1df1234"
      },
      "outputs": [
        {
          "output_type": "execute_result",
          "data": {
            "text/plain": [
              "9"
            ]
          },
          "metadata": {},
          "execution_count": 4
        }
      ],
      "source": [
        "# Check\n",
        "summer_69([4, 5, 6, 7, 8, 9])"
      ]
    },
    {
      "cell_type": "code",
      "execution_count": null,
      "metadata": {
        "collapsed": true,
        "id": "OKNIFolETrON",
        "colab": {
          "base_uri": "https://localhost:8080/"
        },
        "outputId": "3b16e5b6-c6e7-4147-e278-f1db9ef565e3"
      },
      "outputs": [
        {
          "output_type": "execute_result",
          "data": {
            "text/plain": [
              "14"
            ]
          },
          "metadata": {},
          "execution_count": 5
        }
      ],
      "source": [
        "# Check\n",
        "summer_69([2, 1, 6, 9, 11])"
      ]
    },
    {
      "cell_type": "markdown",
      "metadata": {
        "id": "DcmwI_7QTrOO"
      },
      "source": [
        "**Taylor and Rory are hosting a party. They sent out invitations, and each one collected responses into dictionaries, with names of their friends and how many guests each friend is bringing. Each dictionary is a partial list, but Rory's list has more current information about the number of guests. Fill in the blanks to combine both dictionaries into one, with each friend listed only once, and the number of guests from Rory's dictionary taking precedence, if a name is included in both dictionaries. Then print the resulting dictionary.**"
      ]
    },
    {
      "cell_type": "code",
      "execution_count": null,
      "metadata": {
        "id": "1yfU3MWVTrOP",
        "colab": {
          "base_uri": "https://localhost:8080/"
        },
        "outputId": "1a1f1dd0-8e00-46c0-aa73-562fa7e2a45b"
      },
      "outputs": [
        {
          "output_type": "stream",
          "name": "stdout",
          "text": [
            "{'Adam': 2, 'Brenda': 3, 'David': 1, 'Jose': 3, 'Charlotte': 2, 'Terry': 1, 'Robert': 4, 'Nancy': 1, 'Samantha': 3, 'Chris': 5}\n"
          ]
        }
      ],
      "source": [
        "def combine_guests(guests1, guests2):\n",
        "  # Combine both dictionaries into one, with each key listed \n",
        "  # only once, and the value from guests1 taking precedence\n",
        "   for key, value in guests2.items():\n",
        "    if key not in guests1:\n",
        "      guests1[key] = value\n",
        "   return guests1\n",
        "\n",
        "Rorys_guests = { \"Adam\":2, \"Brenda\":3, \"David\":1, \"Jose\":3, \"Charlotte\":2, \"Terry\":1, \"Robert\":4}\n",
        "Taylors_guests = { \"David\":4, \"Nancy\":1, \"Robert\":2, \"Adam\":1, \"Samantha\":3, \"Chris\":5}\n",
        "\n",
        "print(combine_guests(Rorys_guests, Taylors_guests))\n",
        "# shuld give {'David': 1, 'Nancy': 1, 'Robert': 4, 'Adam': 2, 'Samantha': 3, 'Chris': 5, 'Brenda': 3, 'Jose': 3, 'Charlotte': 2, 'Terry': 1}"
      ]
    },
    {
      "cell_type": "code",
      "execution_count": null,
      "metadata": {
        "id": "sXJu4eUFTrOQ"
      },
      "outputs": [],
      "source": []
    },
    {
      "cell_type": "markdown",
      "metadata": {
        "id": "fnBYM-HvTrOQ"
      },
      "source": [
        "# CHALLENGING PROBLEMS"
      ]
    },
    {
      "cell_type": "markdown",
      "metadata": {
        "id": "mksrb-hrTrOR"
      },
      "source": [
        "#### SPY GAME: Write a function that takes in a list of integers and returns True if it contains 007 in order\n",
        "\n",
        "     spy_game([1,2,4,0,0,7,5]) --> True\n",
        "     spy_game([1,0,2,4,0,5,7]) --> True\n",
        "     spy_game([1,7,2,0,4,5,0]) --> False\n"
      ]
    },
    {
      "cell_type": "code",
      "source": [
        "def spy_game(nums):\n",
        "    for i in range(0,len(nums)-1):\n",
        "        if nums[i] == 0:\n",
        "            for x in range(i+1,len(nums)-1):\n",
        "                if nums[x] == 0:\n",
        "                    for y in range(x+1,len(nums)-1):\n",
        "                        if nums[y] == 7:\n",
        "                            return True\n",
        "                else:\n",
        "                    return False"
      ],
      "metadata": {
        "id": "W00ajYCnzt0y"
      },
      "execution_count": null,
      "outputs": []
    },
    {
      "cell_type": "code",
      "execution_count": null,
      "metadata": {
        "id": "3ltFhHNCTrOT",
        "colab": {
          "base_uri": "https://localhost:8080/"
        },
        "outputId": "93432b7f-70be-455b-cbc6-0caa7e7c5e19"
      },
      "outputs": [
        {
          "output_type": "execute_result",
          "data": {
            "text/plain": [
              "True"
            ]
          },
          "metadata": {},
          "execution_count": 42
        }
      ],
      "source": [
        "# Check\n",
        "spy_game([1,2,4,0,0,7,5])"
      ]
    },
    {
      "cell_type": "code",
      "execution_count": null,
      "metadata": {
        "id": "GlSh3EtDTrOT",
        "colab": {
          "base_uri": "https://localhost:8080/"
        },
        "outputId": "d89d57a0-1495-4be7-d474-ea72af4fe595"
      },
      "outputs": [
        {
          "output_type": "execute_result",
          "data": {
            "text/plain": [
              "False"
            ]
          },
          "metadata": {},
          "execution_count": 37
        }
      ],
      "source": [
        "# Check\n",
        "spy_game([1,0,2,4,0,5,7])"
      ]
    },
    {
      "cell_type": "code",
      "execution_count": null,
      "metadata": {
        "id": "mKEUH7CCTrOU",
        "colab": {
          "base_uri": "https://localhost:8080/"
        },
        "outputId": "fb45393f-c2fb-4d88-a377-98f3262c9742"
      },
      "outputs": [
        {
          "output_type": "execute_result",
          "data": {
            "text/plain": [
              "False"
            ]
          },
          "metadata": {},
          "execution_count": 38
        }
      ],
      "source": [
        "# Check\n",
        "spy_game([1,7,2,0,4,5,0])"
      ]
    },
    {
      "cell_type": "markdown",
      "metadata": {
        "id": "eiVII1rVTrOV"
      },
      "source": [
        "#### COUNT PRIMES: Write a function that returns the *number* of prime numbers that exist up to and including a given number\n",
        "    count_primes(100) --> 25\n",
        "\n",
        "By convention, 0 and 1 are not prime."
      ]
    },
    {
      "cell_type": "code",
      "execution_count": null,
      "metadata": {
        "collapsed": true,
        "id": "4jXAn7i8TrOW"
      },
      "outputs": [],
      "source": [
        "def count_primes(num):\n",
        "  c=0\n",
        "  for i in range(2,num+1):\n",
        "    f=0\n",
        "    for x in range(2,i):\n",
        "      if(i%x==0):\n",
        "        f=1\n",
        "    if f==0:\n",
        "        c=c+1\n",
        "  return(c)\n",
        "\n",
        "\n",
        "                "
      ]
    },
    {
      "cell_type": "code",
      "execution_count": null,
      "metadata": {
        "collapsed": true,
        "id": "4-DM5OZMTrOW",
        "colab": {
          "base_uri": "https://localhost:8080/"
        },
        "outputId": "d16deea1-9613-4bc2-e259-b0f257e9ca76"
      },
      "outputs": [
        {
          "output_type": "execute_result",
          "data": {
            "text/plain": [
              "25"
            ]
          },
          "metadata": {},
          "execution_count": 27
        }
      ],
      "source": [
        "# Check\n",
        "count_primes(100)"
      ]
    },
    {
      "cell_type": "markdown",
      "metadata": {
        "id": "9_4bdFUPTrOX"
      },
      "source": [
        "### Just for fun:\n",
        "#### PRINT BIG: Write a function that takes in a single letter, and returns a 5x5 representation of that letter\n",
        "    print_big('a')\n",
        "    \n",
        "    out:   *  \n",
        "          * *\n",
        "         *****\n",
        "         *   *\n",
        "         *   *\n",
        "HINT: Consider making a dictionary of possible patterns, and mapping the alphabet to specific 5-line combinations of patterns. <br>For purposes of this exercise, it's ok if your dictionary stops at \"E\"."
      ]
    },
    {
      "cell_type": "code",
      "execution_count": null,
      "metadata": {
        "collapsed": true,
        "id": "H5m93xBNTrOY"
      },
      "outputs": [],
      "source": [
        "def print_big(letter):\n",
        "    patterns = {1:'  *  ',2:' * * ',3:'*   *',4:'*****',5:'**** '}\n",
        "    alphabet = {'A':[1,2,4,3,3]}\n",
        "    for pattern in alphabet[letter.upper()]:\n",
        "        print(patterns[pattern])\n"
      ]
    },
    {
      "cell_type": "code",
      "execution_count": null,
      "metadata": {
        "collapsed": true,
        "id": "Xu_A9b5oTrOY",
        "colab": {
          "base_uri": "https://localhost:8080/"
        },
        "outputId": "8cc8ad2e-aa52-4f2d-d391-6f8a306b5d07"
      },
      "outputs": [
        {
          "output_type": "stream",
          "name": "stdout",
          "text": [
            "  *  \n",
            " * * \n",
            "*****\n",
            "*   *\n",
            "*   *\n"
          ]
        }
      ],
      "source": [
        "print_big('a')"
      ]
    },
    {
      "cell_type": "markdown",
      "metadata": {
        "id": "rs58AD1uTrOb"
      },
      "source": [
        "**The format_address function separates out parts of the address string into new strings: house_number and street_name, and returns: \"house number X on street named Y\". The format of the input string is: numeric house number, followed by the street name which may contain numbers, but never by themselves, and could be several words long. For example, \"123 Main Street\", \"1001 1st Ave\", or \"55 North Center Drive\". Fill in the gaps to complete this function.**"
      ]
    },
    {
      "cell_type": "code",
      "execution_count": null,
      "metadata": {
        "id": "ORQoU3yvTrOc"
      },
      "outputs": [],
      "source": [
        "def format_address(address_string):\n",
        "  # Does anything else need to be done \n",
        "  # before returning the result?\n",
        "  \n",
        " \n",
        "    # Declare variables\n",
        "    house_number = ''\n",
        "    street_name = ''\n",
        "  # Separate the address string into parts\n",
        "    parts = address_string.split(' ',1)\n",
        "  # Traverse through the address parts\n",
        "   # Determine if the address part is the\n",
        "    # house number or part of the street name\n",
        "    if(parts[0].isnumeric):\n",
        "      house_number += parts[0]\n",
        "      street_name += parts[1]\n",
        "    else:\n",
        "      street_name += parts[0]\n",
        "      house_name += parts[1]\n",
        "     # Return the formatted string  \n",
        "    return \"house number {} on street named {}\".format(house_number,street_name)"
      ]
    },
    {
      "cell_type": "code",
      "execution_count": null,
      "metadata": {
        "id": "RrHxo21fTrOe",
        "colab": {
          "base_uri": "https://localhost:8080/"
        },
        "outputId": "207c5418-97c9-40d2-8686-dbf0df95760c"
      },
      "outputs": [
        {
          "output_type": "stream",
          "name": "stdout",
          "text": [
            "house number 123 on street named Main Street\n"
          ]
        }
      ],
      "source": [
        "print(format_address(\"123 Main Street\"))\n",
        "# Should print: \"house number 123 on street named Main Street\""
      ]
    },
    {
      "cell_type": "code",
      "execution_count": null,
      "metadata": {
        "id": "mGSMLqEjTrOf",
        "colab": {
          "base_uri": "https://localhost:8080/"
        },
        "outputId": "d73d9c86-e977-43ba-fa58-093fe6a70fb2"
      },
      "outputs": [
        {
          "output_type": "stream",
          "name": "stdout",
          "text": [
            "house number 1001 on street named 1st Ave\n"
          ]
        }
      ],
      "source": [
        "print(format_address(\"1001 1st Ave\"))\n",
        "# Should print: \"house number 1001 on street named 1st Ave\""
      ]
    },
    {
      "cell_type": "code",
      "execution_count": null,
      "metadata": {
        "id": "6B5uXF0YTrOf",
        "colab": {
          "base_uri": "https://localhost:8080/"
        },
        "outputId": "c65df49f-7fe8-4c0f-e59b-7b6ebe58ff4e"
      },
      "outputs": [
        {
          "output_type": "stream",
          "name": "stdout",
          "text": [
            "house number 55 on street named North Center Drive\n"
          ]
        }
      ],
      "source": [
        "print(format_address(\"55 North Center Drive\"))\n",
        "# Should print \"house number 55 on street named North Center Drive\""
      ]
    },
    {
      "cell_type": "markdown",
      "metadata": {
        "id": "aL-Uc9yWTrOg"
      },
      "source": [
        "## Done All?\n",
        "## Great Job!"
      ]
    },
    {
      "cell_type": "code",
      "execution_count": null,
      "metadata": {
        "id": "8IgcsO23TrOh"
      },
      "outputs": [],
      "source": []
    }
  ],
  "metadata": {
    "kernelspec": {
      "display_name": "Python 3",
      "language": "python",
      "name": "python3"
    },
    "language_info": {
      "codemirror_mode": {
        "name": "ipython",
        "version": 3
      },
      "file_extension": ".py",
      "mimetype": "text/x-python",
      "name": "python",
      "nbconvert_exporter": "python",
      "pygments_lexer": "ipython3",
      "version": "3.6.8"
    },
    "colab": {
      "provenance": [],
      "collapsed_sections": [
        "5kaw4C4fTrNa",
        "rLwCfSDfTrNt",
        "jG1WZuwgTrOD",
        "yfFUjAQvTrOH"
      ],
      "include_colab_link": true
    }
  },
  "nbformat": 4,
  "nbformat_minor": 0
}