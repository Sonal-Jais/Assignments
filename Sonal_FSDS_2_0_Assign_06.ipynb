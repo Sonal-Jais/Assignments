{
  "nbformat": 4,
  "nbformat_minor": 0,
  "metadata": {
    "colab": {
      "provenance": [],
      "authorship_tag": "ABX9TyP66TllN2eoSqW5EC1ohDWE",
      "include_colab_link": true
    },
    "kernelspec": {
      "name": "python3",
      "display_name": "Python 3"
    },
    "language_info": {
      "name": "python"
    }
  },
  "cells": [
    {
      "cell_type": "markdown",
      "metadata": {
        "id": "view-in-github",
        "colab_type": "text"
      },
      "source": [
        "<a href=\"https://colab.research.google.com/github/Sonal-Jais/Assignments/blob/main/Sonal_FSDS_2_0_Assign_06.ipynb\" target=\"_parent\"><img src=\"https://colab.research.google.com/assets/colab-badge.svg\" alt=\"Open In Colab\"/></a>"
      ]
    },
    {
      "cell_type": "markdown",
      "source": [
        "# ASSIGNMENT"
      ],
      "metadata": {
        "id": "lqTxlLFcr-sY"
      }
    },
    {
      "cell_type": "markdown",
      "source": [
        "Question 1. write a function which will try to find out len of a string without using an inbuilt len function "
      ],
      "metadata": {
        "id": "10-xkTnMsNKv"
      }
    },
    {
      "cell_type": "code",
      "source": [
        "def leng(a):               # def keyword is used to declare a function followed by function block \n",
        "  \"\"\" This user_defined function returns the length of given string \"\"\"\n",
        "  i = 0                          # a counter variable for finding length\n",
        "  for e in a:                    # a foor loop to traverse through the given argument.\n",
        "    if(e!=\"\"):                   # if condition to check whether given argument is blank or not\n",
        "      i+= 1                      # if the condition is not satisfied then increase the counter by 1\n",
        "  return (i)                     # using a return statement outside for to return the length\n"
      ],
      "metadata": {
        "id": "mPTzq8QOsSte"
      },
      "execution_count": null,
      "outputs": []
    },
    {
      "cell_type": "code",
      "source": [
        "l1 = [2,3,4,5,\"supp\",4.67]\n",
        "\n",
        "a = \"good dreams\""
      ],
      "metadata": {
        "id": "yHPDezsxsrEl"
      },
      "execution_count": null,
      "outputs": []
    },
    {
      "cell_type": "code",
      "source": [
        "print(leng(l1),\" is length of the list l1\")              # function call along with the argument.\n",
        "\n",
        "print(leng(a),\" is length of the string \")"
      ],
      "metadata": {
        "colab": {
          "base_uri": "https://localhost:8080/"
        },
        "id": "TeUV9lyCs1IZ",
        "outputId": "626dc008-b1b6-40f4-efd4-dd227df2eff9"
      },
      "execution_count": null,
      "outputs": [
        {
          "output_type": "stream",
          "name": "stdout",
          "text": [
            "6  is length of the list l1\n",
            "11  is length of the string \n"
          ]
        }
      ]
    },
    {
      "cell_type": "markdown",
      "source": [
        "Question 2. write a function which  will be able to print an index of list element without using an index function"
      ],
      "metadata": {
        "id": "Dfz80YPivmlY"
      }
    },
    {
      "cell_type": "code",
      "source": [
        "def u_index(a,l):                    # def keyword is used to declare a function followed by function block\n",
        "  \"\"\" A user defined function to find the index of the the given number within a list indexing starts from 0\"\"\"\n",
        "  c=0                                # a counter variable for finding the index\n",
        "  for i in l:                        # a for loop to traverse through the given list.     \n",
        "    c+=1                             # increasing the counter to find the index\n",
        "    if (i == a):                     # the conditional statement to check for the given argument \n",
        "      return (c-1)                   # returning the counter value -1 as indexing starts from 0\n"
      ],
      "metadata": {
        "id": "8ZjxAR26s4SY"
      },
      "execution_count": null,
      "outputs": []
    },
    {
      "cell_type": "code",
      "source": [
        "l1 = [2,3,4,5,\"supp\",4.67]\n",
        "u_index(\"supp\",l1)                     # function call along with the given 2 arguments"
      ],
      "metadata": {
        "colab": {
          "base_uri": "https://localhost:8080/"
        },
        "id": "ITpqE5txwkaI",
        "outputId": "227b9b5a-a337-416a-da89-59138ea022a3"
      },
      "execution_count": null,
      "outputs": [
        {
          "output_type": "execute_result",
          "data": {
            "text/plain": [
              "4"
            ]
          },
          "metadata": {},
          "execution_count": 24
        }
      ]
    },
    {
      "cell_type": "markdown",
      "source": [
        "Question 3. write a function which will be able to print an ip address of your system"
      ],
      "metadata": {
        "id": "wAc4gglr0Ef6"
      }
    },
    {
      "cell_type": "code",
      "source": [
        "import socket                                  # importing the socket module  \n",
        "hostname = socket.gethostname()                #gethostname() -- return the current hostname\n",
        "IPAddr = socket.gethostbyname(hostname)        #gethostbyname() -- map a hostname to its IP number\n",
        " \n",
        "print(\"Your Computer IP Address is:\" + IPAddr)"
      ],
      "metadata": {
        "colab": {
          "base_uri": "https://localhost:8080/"
        },
        "id": "5_AFkK_v0NPT",
        "outputId": "0b28b6d9-a7ee-4da4-8614-834806747198"
      },
      "execution_count": null,
      "outputs": [
        {
          "output_type": "stream",
          "name": "stdout",
          "text": [
            "Your Computer IP Address is:172.28.0.2\n"
          ]
        }
      ]
    },
    {
      "cell_type": "markdown",
      "source": [
        "Question 5. write a function which will take input as a list with any kind of numeric value and give an out as a multiplication of \n",
        "all the numeric data l = [3.5, 6.56, 4,5,\"sudh\" , \"ineuron\" , 'fsda bootcamp 2.0']"
      ],
      "metadata": {
        "id": "DMvWw-0D6k3N"
      }
    },
    {
      "cell_type": "code",
      "source": [
        "def practice(d):                                 # def keyword is used to declare a function followed by function block\n",
        "  \"\"\" a user defined func to calculate the multiplication of all the numeric values of the list\"\"\"\n",
        "  m = 1                                          # variable to store the multiplication of the numeric value encountered\n",
        "  for i in d:                                    # a for loop to traverse through the given list.\n",
        "    if type(i) == int or type(i) == float:       # a conditional statement to check for numeric type values\n",
        "      m = m*i                                    # if the condition is fulfilled enter the body of if and multiply the number\n",
        "  return (m)                                     # return statement to return the multiplied value.\n",
        "\n",
        "l = [3.5, 6.56, 4,5,\"sudh\" , \"ineuron\" , 'fsda bootcamp 2.0']\n",
        "\n",
        "print(\"the computed value of the numeric data in the given list is:\",practice(l)) ## function call along with the argument."
      ],
      "metadata": {
        "colab": {
          "base_uri": "https://localhost:8080/"
        },
        "id": "XLY6rcYa48J3",
        "outputId": "3d706e40-8021-4a7a-a707-5aeeaf90b9ff"
      },
      "execution_count": null,
      "outputs": [
        {
          "output_type": "stream",
          "name": "stdout",
          "text": [
            "the computed value of the numeric data in the given list is: 459.19999999999993\n"
          ]
        }
      ]
    },
    {
      "cell_type": "code",
      "source": [],
      "metadata": {
        "id": "MtCdS4Ix7h88"
      },
      "execution_count": null,
      "outputs": []
    }
  ]
}